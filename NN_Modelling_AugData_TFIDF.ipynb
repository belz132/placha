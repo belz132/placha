{
 "cells": [
  {
   "cell_type": "code",
   "execution_count": 1,
   "id": "e070d068",
   "metadata": {},
   "outputs": [
    {
     "name": "stderr",
     "output_type": "stream",
     "text": [
      "C:\\Users\\B\\AppData\\Local\\Temp\\ipykernel_13308\\2881387631.py:7: FutureWarning: The frame.append method is deprecated and will be removed from pandas in a future version. Use pandas.concat instead.\n",
      "  df = df_positive.append(df_negative, ignore_index=True)\n",
      "C:\\Users\\B\\AppData\\Local\\Temp\\ipykernel_13308\\2881387631.py:8: FutureWarning: The frame.append method is deprecated and will be removed from pandas in a future version. Use pandas.concat instead.\n",
      "  df = df.append(df_neutral, ignore_index=True)\n"
     ]
    }
   ],
   "source": [
    "import pandas as pd\n",
    "\n",
    "df_positive = pd.read_csv('positive.tsv', sep='\\t')\n",
    "df_negative = pd.read_csv('augmented_negative.tsv', sep='\\t')\n",
    "df_neutral = pd.read_csv('augmented_neutral.tsv', sep='\\t')\n",
    "\n",
    "df = df_positive.append(df_negative, ignore_index=True)\n",
    "df = df.append(df_neutral, ignore_index=True)"
   ]
  },
  {
   "cell_type": "code",
   "execution_count": 5,
   "id": "cdb63073",
   "metadata": {},
   "outputs": [
    {
     "data": {
      "text/html": [
       "<div>\n",
       "<style scoped>\n",
       "    .dataframe tbody tr th:only-of-type {\n",
       "        vertical-align: middle;\n",
       "    }\n",
       "\n",
       "    .dataframe tbody tr th {\n",
       "        vertical-align: top;\n",
       "    }\n",
       "\n",
       "    .dataframe thead th {\n",
       "        text-align: right;\n",
       "    }\n",
       "</style>\n",
       "<table border=\"1\" class=\"dataframe\">\n",
       "  <thead>\n",
       "    <tr style=\"text-align: right;\">\n",
       "      <th></th>\n",
       "      <th>text</th>\n",
       "      <th>label</th>\n",
       "    </tr>\n",
       "  </thead>\n",
       "  <tbody>\n",
       "    <tr>\n",
       "      <th>18898</th>\n",
       "      <td>Kami memiliki Chef, playset Happy Kitchen, dan...</td>\n",
       "      <td>neutral</td>\n",
       "    </tr>\n",
       "    <tr>\n",
       "      <th>2129</th>\n",
       "      <td>batagor nya enak , mi yakin nya enak . ada ane...</td>\n",
       "      <td>positive</td>\n",
       "    </tr>\n",
       "    <tr>\n",
       "      <th>16746</th>\n",
       "      <td>di usia 57 tahun , saat nya gerakan pramuka di...</td>\n",
       "      <td>neutral</td>\n",
       "    </tr>\n",
       "    <tr>\n",
       "      <th>22090</th>\n",
       "      <td>jumlah pemilih nasional 185.379.878 dan pemili...</td>\n",
       "      <td>neutral</td>\n",
       "    </tr>\n",
       "    <tr>\n",
       "      <th>12060</th>\n",
       "      <td>interior restorannya sangat bagus, cocok untuk...</td>\n",
       "      <td>negative</td>\n",
       "    </tr>\n",
       "  </tbody>\n",
       "</table>\n",
       "</div>"
      ],
      "text/plain": [
       "                                                    text     label\n",
       "18898  Kami memiliki Chef, playset Happy Kitchen, dan...   neutral\n",
       "2129   batagor nya enak , mi yakin nya enak . ada ane...  positive\n",
       "16746  di usia 57 tahun , saat nya gerakan pramuka di...   neutral\n",
       "22090  jumlah pemilih nasional 185.379.878 dan pemili...   neutral\n",
       "12060  interior restorannya sangat bagus, cocok untuk...  negative"
      ]
     },
     "execution_count": 5,
     "metadata": {},
     "output_type": "execute_result"
    }
   ],
   "source": [
    "df = df.sample(frac = 1)\n",
    "df.head()"
   ]
  },
  {
   "cell_type": "code",
   "execution_count": 6,
   "id": "6d1ab5fc",
   "metadata": {},
   "outputs": [
    {
     "data": {
      "text/plain": [
       "(23629, 2)"
      ]
     },
     "execution_count": 6,
     "metadata": {},
     "output_type": "execute_result"
    }
   ],
   "source": [
    "df.shape"
   ]
  },
  {
   "cell_type": "code",
   "execution_count": 7,
   "id": "b8a99f7f",
   "metadata": {},
   "outputs": [
    {
     "data": {
      "text/plain": [
       "neutral     8202\n",
       "negative    8068\n",
       "positive    7359\n",
       "Name: label, dtype: int64"
      ]
     },
     "execution_count": 7,
     "metadata": {},
     "output_type": "execute_result"
    }
   ],
   "source": [
    "df.label.value_counts()"
   ]
  },
  {
   "cell_type": "code",
   "execution_count": 8,
   "id": "317710e8",
   "metadata": {},
   "outputs": [],
   "source": [
    "import re\n",
    "from Sastrawi.Stemmer.StemmerFactory import StemmerFactory\n",
    "\n",
    "factory = StemmerFactory()\n",
    "stemmer = factory.create_stemmer()\n",
    "\n",
    "alay_dict = pd.read_csv('new_kamusalay.csv', encoding='latin-1', header=None)\n",
    "alay_dict = alay_dict.rename(columns={0: 'original', 1: 'replacement'})\n",
    "alay_dict_map = dict(zip(alay_dict['original'], alay_dict['replacement']))\n",
    "\n",
    "id_stopword_dict = pd.read_csv('stopwordbahasa.csv', header=None)\n",
    "id_stopword_dict = id_stopword_dict.rename(columns={0: 'stopword'})\n",
    "\n",
    "def cleansing(text):\n",
    "\n",
    "    # Lower Case Operation\n",
    "    text = text.lower()\n",
    "\n",
    "    # Removing Unnecessary Characters\n",
    "    text = re.sub('\\n', ' ', text)\n",
    "    text = re.sub('rt', ' ', text)\n",
    "    text = re.sub('user', ' ', text)\n",
    "    text = re.sub(r'((www\\.[^\\s]+)|(http?://[^\\s]+)|(https?://[^\\s]+))', ' ', text)\n",
    "    text = re.sub(' +', ' ', text)\n",
    "\n",
    "    # Removing Non-Alphanumeric Characters\n",
    "    text = re.sub('[^a-zA-Z0-9]+', ' ', text)\n",
    "\n",
    "    # Normalizing Alay Words\n",
    "    text = ' '.join([alay_dict_map[word] if word in alay_dict_map else word for word in text.split(' ')])\n",
    "\n",
    "    # Removing Stopword\n",
    "    text = ' '.join(['' if word in id_stopword_dict.stopword.values else word for word in text.split(' ')])\n",
    "    text = text.strip()\n",
    "\n",
    "    # Stemming\n",
    "    text = stemmer.stem(text)\n",
    "\n",
    "    return text"
   ]
  },
  {
   "cell_type": "code",
   "execution_count": 9,
   "id": "21f448b8",
   "metadata": {},
   "outputs": [],
   "source": [
    "df['text_clean'] = df.text.apply(cleansing)"
   ]
  },
  {
   "cell_type": "code",
   "execution_count": 10,
   "id": "27500bcb",
   "metadata": {},
   "outputs": [
    {
     "data": {
      "text/html": [
       "<div>\n",
       "<style scoped>\n",
       "    .dataframe tbody tr th:only-of-type {\n",
       "        vertical-align: middle;\n",
       "    }\n",
       "\n",
       "    .dataframe tbody tr th {\n",
       "        vertical-align: top;\n",
       "    }\n",
       "\n",
       "    .dataframe thead th {\n",
       "        text-align: right;\n",
       "    }\n",
       "</style>\n",
       "<table border=\"1\" class=\"dataframe\">\n",
       "  <thead>\n",
       "    <tr style=\"text-align: right;\">\n",
       "      <th></th>\n",
       "      <th>text</th>\n",
       "      <th>label</th>\n",
       "      <th>text_clean</th>\n",
       "    </tr>\n",
       "  </thead>\n",
       "  <tbody>\n",
       "    <tr>\n",
       "      <th>18898</th>\n",
       "      <td>Kami memiliki Chef, playset Happy Kitchen, dan...</td>\n",
       "      <td>neutral</td>\n",
       "      <td>milik chef playset happy dapur main masak warn...</td>\n",
       "    </tr>\n",
       "    <tr>\n",
       "      <th>2129</th>\n",
       "      <td>batagor nya enak , mi yakin nya enak . ada ane...</td>\n",
       "      <td>positive</td>\n",
       "      <td>batagor nya enak mi nya enak aneka makan cicip...</td>\n",
       "    </tr>\n",
       "    <tr>\n",
       "      <th>16746</th>\n",
       "      <td>di usia 57 tahun , saat nya gerakan pramuka di...</td>\n",
       "      <td>neutral</td>\n",
       "      <td>usia 57 nya gera pramuka tanah air tantang zam...</td>\n",
       "    </tr>\n",
       "    <tr>\n",
       "      <th>22090</th>\n",
       "      <td>jumlah pemilih nasional 185.379.878 dan pemili...</td>\n",
       "      <td>neutral</td>\n",
       "      <td>pilih nasional 185 379 878 pilih asing 1 281 597</td>\n",
       "    </tr>\n",
       "    <tr>\n",
       "      <th>12060</th>\n",
       "      <td>interior restorannya sangat bagus, cocok untuk...</td>\n",
       "      <td>negative</td>\n",
       "      <td>interior restoran bagus cocok kumpul teman sem...</td>\n",
       "    </tr>\n",
       "  </tbody>\n",
       "</table>\n",
       "</div>"
      ],
      "text/plain": [
       "                                                    text     label  \\\n",
       "18898  Kami memiliki Chef, playset Happy Kitchen, dan...   neutral   \n",
       "2129   batagor nya enak , mi yakin nya enak . ada ane...  positive   \n",
       "16746  di usia 57 tahun , saat nya gerakan pramuka di...   neutral   \n",
       "22090  jumlah pemilih nasional 185.379.878 dan pemili...   neutral   \n",
       "12060  interior restorannya sangat bagus, cocok untuk...  negative   \n",
       "\n",
       "                                              text_clean  \n",
       "18898  milik chef playset happy dapur main masak warn...  \n",
       "2129   batagor nya enak mi nya enak aneka makan cicip...  \n",
       "16746  usia 57 nya gera pramuka tanah air tantang zam...  \n",
       "22090   pilih nasional 185 379 878 pilih asing 1 281 597  \n",
       "12060  interior restoran bagus cocok kumpul teman sem...  "
      ]
     },
     "execution_count": 10,
     "metadata": {},
     "output_type": "execute_result"
    }
   ],
   "source": [
    "df.head()"
   ]
  },
  {
   "cell_type": "code",
   "execution_count": 11,
   "id": "b646d077",
   "metadata": {},
   "outputs": [
    {
     "data": {
      "text/plain": [
       "['milik chef playset happy dapur main masak warna merah muda stand budiwastono',\n",
       " 'batagor nya enak mi nya enak aneka makan cicip toko nya renovasi bagus musala area khas bandung nya pilih sayang area parkir parkir panjang jalan repot hujan',\n",
       " 'usia 57 nya gera pramuka tanah air tantang zaman anggota pramuka didik bahasa morse tahu digital sepe i coding a ificial intelligence advance robotic internet of pikir',\n",
       " 'pilih nasional 185 379 878 pilih asing 1 281 597',\n",
       " 'interior restoran bagus cocok kumpul teman sempit skala restoran sibuk tunggu selesai makan istimewa oreo pancake nasi goreng banana split']"
      ]
     },
     "execution_count": 11,
     "metadata": {},
     "output_type": "execute_result"
    }
   ],
   "source": [
    "data_preprocessed = df.text_clean.tolist()\n",
    "data_preprocessed[0:5]"
   ]
  },
  {
   "cell_type": "code",
   "execution_count": 12,
   "id": "55bbffbf",
   "metadata": {},
   "outputs": [
    {
     "name": "stdout",
     "output_type": "stream",
     "text": [
      "Feature Extraction Berhasil!\n"
     ]
    }
   ],
   "source": [
    "from sklearn.feature_extraction.text import TfidfVectorizer\n",
    "\n",
    "# Proses Feature Extraction\n",
    "tfidf_vect = TfidfVectorizer()\n",
    "tfidf_vect.fit(data_preprocessed)\n",
    "\n",
    "X = tfidf_vect.transform(data_preprocessed)\n",
    "print (\"Feature Extraction Berhasil!\")"
   ]
  },
  {
   "cell_type": "code",
   "execution_count": 13,
   "id": "90617860",
   "metadata": {},
   "outputs": [
    {
     "data": {
      "text/plain": [
       "(23629, 15178)"
      ]
     },
     "execution_count": 13,
     "metadata": {},
     "output_type": "execute_result"
    }
   ],
   "source": [
    "X.shape"
   ]
  },
  {
   "cell_type": "code",
   "execution_count": 14,
   "id": "e3c5731a",
   "metadata": {},
   "outputs": [],
   "source": [
    "import pickle\n",
    "\n",
    "pickle.dump(tfidf_vect, open(\"nn_aug_tfidf.feature\", \"wb\"))"
   ]
  },
  {
   "cell_type": "code",
   "execution_count": 15,
   "id": "12940566",
   "metadata": {},
   "outputs": [],
   "source": [
    "from sklearn.model_selection import train_test_split\n",
    "\n",
    "classes = df.label\n",
    "X_train, X_test, y_train, y_test = train_test_split(X, classes, shuffle=False, stratify=None, test_size = 0.2)"
   ]
  },
  {
   "cell_type": "code",
   "execution_count": 16,
   "id": "53fae112",
   "metadata": {},
   "outputs": [
    {
     "data": {
      "text/plain": [
       "{'activation': 'relu',\n",
       " 'alpha': 0.0001,\n",
       " 'batch_size': 'auto',\n",
       " 'beta_1': 0.9,\n",
       " 'beta_2': 0.999,\n",
       " 'early_stopping': False,\n",
       " 'epsilon': 1e-08,\n",
       " 'hidden_layer_sizes': (100,),\n",
       " 'learning_rate': 'constant',\n",
       " 'learning_rate_init': 0.001,\n",
       " 'max_fun': 15000,\n",
       " 'max_iter': 200,\n",
       " 'momentum': 0.9,\n",
       " 'n_iter_no_change': 10,\n",
       " 'nesterovs_momentum': True,\n",
       " 'power_t': 0.5,\n",
       " 'random_state': None,\n",
       " 'shuffle': True,\n",
       " 'solver': 'adam',\n",
       " 'tol': 0.0001,\n",
       " 'validation_fraction': 0.1,\n",
       " 'verbose': False,\n",
       " 'warm_start': False}"
      ]
     },
     "execution_count": 16,
     "metadata": {},
     "output_type": "execute_result"
    }
   ],
   "source": [
    "from sklearn.neural_network import MLPClassifier\n",
    "\n",
    "model = MLPClassifier()\n",
    "model.get_params()"
   ]
  },
  {
   "cell_type": "code",
   "execution_count": 17,
   "id": "2832d93d",
   "metadata": {},
   "outputs": [
    {
     "name": "stdout",
     "output_type": "stream",
     "text": [
      "Training Berhasil!\n"
     ]
    }
   ],
   "source": [
    "model.fit(X_train, y_train)\n",
    "pickle.dump(model, open(\"nn_aug_tfidf.model\", \"wb\"))\n",
    "\n",
    "print (\"Training Berhasil!\")"
   ]
  },
  {
   "cell_type": "code",
   "execution_count": 18,
   "id": "ba32b0b1",
   "metadata": {},
   "outputs": [
    {
     "name": "stdout",
     "output_type": "stream",
     "text": [
      "Testing Selesai!\n",
      "              precision    recall  f1-score   support\n",
      "\n",
      "    negative       0.84      0.86      0.85      1570\n",
      "     neutral       0.93      0.96      0.95      1626\n",
      "    positive       0.89      0.83      0.86      1530\n",
      "\n",
      "    accuracy                           0.89      4726\n",
      "   macro avg       0.89      0.89      0.89      4726\n",
      "weighted avg       0.89      0.89      0.89      4726\n",
      "\n"
     ]
    }
   ],
   "source": [
    "from sklearn.metrics import classification_report\n",
    "\n",
    "test = model.predict(X_test)\n",
    "\n",
    "print (\"Testing Selesai!\")\n",
    "\n",
    "print(classification_report(y_test, test))"
   ]
  },
  {
   "cell_type": "code",
   "execution_count": 20,
   "id": "08da54b0",
   "metadata": {},
   "outputs": [
    {
     "name": "stderr",
     "output_type": "stream",
     "text": [
      "C:\\Users\\B\\AppData\\Local\\Programs\\Python\\Python310\\lib\\site-packages\\sklearn\\utils\\deprecation.py:87: FutureWarning: Function plot_confusion_matrix is deprecated; Function `plot_confusion_matrix` is deprecated in 1.0 and will be removed in 1.2. Use one of the class methods: ConfusionMatrixDisplay.from_predictions or ConfusionMatrixDisplay.from_estimator.\n",
      "  warnings.warn(msg, category=FutureWarning)\n"
     ]
    },
    {
     "data": {
      "image/png": "[encoded data removed]",
      "text/plain": [
       "<Figure size 640x480 with 2 Axes>"
      ]
     },
     "metadata": {},
     "output_type": "display_data"
    }
   ],
   "source": [
    "from sklearn.metrics import plot_confusion_matrix\n",
    "import matplotlib.pyplot as plt\n",
    "\n",
    "fig = plot_confusion_matrix(model, X_test, y_test, display_labels=model.classes_)\n",
    "fig.figure_.suptitle(\"Sentiment Analysis With TFIDF Vectorizer and Neural Network (MLPClassifier)\")\n",
    "plt.show()"
   ]
  },
  {
   "cell_type": "code",
   "execution_count": null,
   "id": "61ab7364",
   "metadata": {},
   "outputs": [],
   "source": []
  }
 ],
 "metadata": {
  "kernelspec": {
   "display_name": "Python 3 (ipykernel)",
   "language": "python",
   "name": "python3"
  },
  "language_info": {
   "codemirror_mode": {
    "name": "ipython",
    "version": 3
   },
   "file_extension": ".py",
   "mimetype": "text/x-python",
   "name": "python",
   "nbconvert_exporter": "python",
   "pygments_lexer": "ipython3",
   "version": "3.10.6"
  }
 },
 "nbformat": 4,
 "nbformat_minor": 5
}
